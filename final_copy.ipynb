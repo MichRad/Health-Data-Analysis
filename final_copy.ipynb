{
 "cells": [
  {
   "cell_type": "markdown",
   "metadata": {},
   "source": [
    "# Health Survey Data Analysis\n",
    "\n",
    "Michelle Radcliffe"
   ]
  },
  {
   "cell_type": "markdown",
   "metadata": {},
   "source": [
    "## Executive Summary\n",
    "\n",
    "The goal of this notebook is to analyze some data of study participants' physical health and evaluate if there is statistical significance in health between those who rent vs buy their home."
   ]
  },
  {
   "cell_type": "markdown",
   "metadata": {},
   "source": [
    "## The Data\n",
    "\n",
    "The data on the .csv file being accessed comes from the <a href=https://www.cdc.gov/brfss/annual_data/2020/pdf/codebook20_llcp-v2-508.pdf>CDC Behavioral Risk Factor Surveillance System (BRFSS)</a>. This subset of the data represents survey responses from the 2020-2021 survey in the state of New York. Each record represents a survey response.\n",
    "\n",
    "The two columns that will be cleaned are:<br>\n",
    "<li>'PHYSHLTH' which asks \"for how many days during the past 30 days was your physical health not good?\" (units: 0-30 days)</li>\n",
    "<li>'RENTHOM1' which asks \"do you own or rent your home?\" (1 or 2)</li>"
   ]
  },
  {
   "cell_type": "markdown",
   "metadata": {},
   "source": [
    "First, we will import the necessary libraries and open our .csv file."
   ]
  },
  {
   "cell_type": "code",
   "execution_count": 1,
   "metadata": {},
   "outputs": [],
   "source": [
    "import matplotlib.pyplot as plt\n",
    "import numpy as np\n",
    "import pandas as pd\n",
    "import scipy.stats as stats\n",
    "%matplotlib inline\n",
    "\n",
    "\n",
    "file_path = \"https://raw.githubusercontent.com/learn-co-curriculum/da-phase3-project-enterprise/main/brfss_ny.csv\"\n",
    "df = pd.read_csv(file_path)"
   ]
  },
  {
   "cell_type": "markdown",
   "metadata": {},
   "source": [
    "## Data Preparation\n",
    "\n",
    "There is not a lot that needs to be done for preparing/cleaning the data. The codebook that we are given has a 'legend' which assigns numbers to values. 'PHYHLTH' is concerned with the number of days (1-30) that participants felt physically ill/injured in the month. The other values that do not fall under 1-30 are:<br>\n",
    "<br>\n",
    "<li>88 = None</li>\n",
    "<li>77 = Don't know/not sure</li>\n",
    "<li>99 = Refused</li>\n",
    "<li>BLANK = Not asked or missing</li><br>\n",
    "Let's take a quick look at how many entries there are of each and then decide how to handle them."
   ]
  },
  {
   "cell_type": "code",
   "execution_count": 2,
   "metadata": {
    "scrolled": true
   },
   "outputs": [
    {
     "data": {
      "text/plain": [
       "14769"
      ]
     },
     "execution_count": 2,
     "metadata": {},
     "output_type": "execute_result"
    }
   ],
   "source": [
    "len(df['PHYSHLTH']) # total length of 'PHYSHLTH' = 14769"
   ]
  },
  {
   "cell_type": "code",
   "execution_count": 3,
   "metadata": {},
   "outputs": [
    {
     "data": {
      "text/plain": [
       "33"
      ]
     },
     "execution_count": 3,
     "metadata": {},
     "output_type": "execute_result"
    }
   ],
   "source": [
    "df['PHYSHLTH'].nunique()"
   ]
  },
  {
   "cell_type": "code",
   "execution_count": 4,
   "metadata": {},
   "outputs": [],
   "source": [
    "df['PHYSHLTH'].loc[df['PHYSHLTH'] == 88]; # 'None' total length = 10565"
   ]
  },
  {
   "cell_type": "code",
   "execution_count": 5,
   "metadata": {
    "scrolled": true
   },
   "outputs": [],
   "source": [
    "df['PHYSHLTH'].loc[df['PHYSHLTH'] == 77]; # 'Don't know/not sure' total length = 248"
   ]
  },
  {
   "cell_type": "code",
   "execution_count": 6,
   "metadata": {
    "scrolled": true
   },
   "outputs": [],
   "source": [
    "df['PHYSHLTH'].loc[df['PHYSHLTH'] == 99]; # 'Refused' total length = 81"
   ]
  },
  {
   "cell_type": "code",
   "execution_count": 7,
   "metadata": {},
   "outputs": [
    {
     "data": {
      "text/plain": [
       "0"
      ]
     },
     "execution_count": 7,
     "metadata": {},
     "output_type": "execute_result"
    }
   ],
   "source": [
    "df['PHYSHLTH'].isna().sum() # There are no BLANK entries that need to be dropped."
   ]
  },
  {
   "cell_type": "markdown",
   "metadata": {},
   "source": [
    "Let's replace values 88 with 0 because 88 represents 'None' or, numerically, 0.<br>\n",
    "Then, after replacing values 77 and 99 with 'NaN', we will drop them because they account for only 329 values of 14769. They will not have a significant impact on the data after being dropped."
   ]
  },
  {
   "cell_type": "code",
   "execution_count": 8,
   "metadata": {},
   "outputs": [],
   "source": [
    "df['PHYSHLTH'] = df['PHYSHLTH'].replace(to_replace=88, value=0)\n",
    "df['PHYSHLTH'] = df['PHYSHLTH'].replace(to_replace=77, value='NaN')\n",
    "df['PHYSHLTH'] = df['PHYSHLTH'].replace(to_replace=99, value='NaN')\n",
    "df = df.drop(df[df['PHYSHLTH'] == 'NaN'].index)"
   ]
  },
  {
   "cell_type": "markdown",
   "metadata": {},
   "source": [
    "Now our column is all integers 0-30."
   ]
  },
  {
   "cell_type": "code",
   "execution_count": 9,
   "metadata": {},
   "outputs": [
    {
     "data": {
      "text/plain": [
       "array([0.0, 14.0, 5.0, 2.0, 3.0, 10.0, 30.0, 20.0, 1.0, 7.0, 15.0, 25.0,\n",
       "       8.0, 4.0, 21.0, 6.0, 29.0, 9.0, 28.0, 18.0, 24.0, 17.0, 12.0, 13.0,\n",
       "       16.0, 26.0, 27.0, 23.0, 19.0, 11.0, 22.0], dtype=object)"
      ]
     },
     "execution_count": 9,
     "metadata": {},
     "output_type": "execute_result"
    }
   ],
   "source": [
    "df['PHYSHLTH'].unique()"
   ]
  },
  {
   "cell_type": "markdown",
   "metadata": {},
   "source": [
    "Now that the 'PHYSHLTH' column is clean, we will look at the 'RENTHOM1' column which tells us which participants rent or own their home. The answers in this column are:<br>\n",
    "<br>\n",
    "<li>1 = Own</li>\n",
    "<li>2 = Rent</li>\n",
    "<li>3 = Other arrangement</li>\n",
    "<li>7 = Don't know/not sure</li>\n",
    "<li>9 = Refused</li>\n",
    "<li>BLANK = Not asked or Missing</li><br>\n",
    "Let's clean this data so we only have two options, 1 or 2. It is not necessary, but let's look at the total numbers of each entry."
   ]
  },
  {
   "cell_type": "code",
   "execution_count": 10,
   "metadata": {},
   "outputs": [
    {
     "data": {
      "text/plain": [
       "14440"
      ]
     },
     "execution_count": 10,
     "metadata": {},
     "output_type": "execute_result"
    }
   ],
   "source": [
    "len(df['RENTHOM1']) # Remember we dropped some rows for PHYSHLTH so our dataframe only has 14440 total entries"
   ]
  },
  {
   "cell_type": "code",
   "execution_count": 11,
   "metadata": {},
   "outputs": [],
   "source": [
    "df['RENTHOM1'].loc[df['RENTHOM1'] == 3]; # Total length 585"
   ]
  },
  {
   "cell_type": "code",
   "execution_count": 12,
   "metadata": {},
   "outputs": [],
   "source": [
    "df['RENTHOM1'].loc[df['RENTHOM1'] == 7]; # Total length 55"
   ]
  },
  {
   "cell_type": "code",
   "execution_count": 13,
   "metadata": {},
   "outputs": [],
   "source": [
    "df['RENTHOM1'].loc[df['RENTHOM1'] == 9]; # Total length 141"
   ]
  },
  {
   "cell_type": "code",
   "execution_count": 14,
   "metadata": {},
   "outputs": [
    {
     "data": {
      "text/plain": [
       "0"
      ]
     },
     "execution_count": 14,
     "metadata": {},
     "output_type": "execute_result"
    }
   ],
   "source": [
    "df['RENTHOM1'].isna().sum() # There are no missing values"
   ]
  },
  {
   "cell_type": "markdown",
   "metadata": {},
   "source": [
    "I will drop entries with 3, 7, and 9."
   ]
  },
  {
   "cell_type": "code",
   "execution_count": 15,
   "metadata": {},
   "outputs": [],
   "source": [
    "df['RENTHOM1'] = df['RENTHOM1'].replace(to_replace=3, value='NaN')\n",
    "df['RENTHOM1'] = df['RENTHOM1'].replace(to_replace=7, value='NaN')\n",
    "df['RENTHOM1'] = df['RENTHOM1'].replace(to_replace=9, value='NaN')\n",
    "df = df.drop(df[df['RENTHOM1'] == 'NaN'].index)"
   ]
  },
  {
   "cell_type": "code",
   "execution_count": 16,
   "metadata": {},
   "outputs": [
    {
     "data": {
      "text/plain": [
       "array([2.0, 1.0], dtype=object)"
      ]
     },
     "execution_count": 16,
     "metadata": {},
     "output_type": "execute_result"
    }
   ],
   "source": [
    "df['RENTHOM1'].unique()"
   ]
  },
  {
   "cell_type": "code",
   "execution_count": 17,
   "metadata": {},
   "outputs": [
    {
     "data": {
      "text/plain": [
       "13659"
      ]
     },
     "execution_count": 17,
     "metadata": {},
     "output_type": "execute_result"
    }
   ],
   "source": [
    "len(df['RENTHOM1'])"
   ]
  },
  {
   "cell_type": "markdown",
   "metadata": {},
   "source": [
    "It looks like our data is ready to be worked with. Let's investigate."
   ]
  },
  {
   "cell_type": "markdown",
   "metadata": {},
   "source": [
    "## Confidence Interval for Mean of `PHYSHLTH`"
   ]
  },
  {
   "cell_type": "markdown",
   "metadata": {},
   "source": [
    "Let's calculate the sample mean and standard error of ['PHYSHLTH'] to find the confidence interval using an alpha of .05."
   ]
  },
  {
   "cell_type": "code",
   "execution_count": 18,
   "metadata": {
    "scrolled": true
   },
   "outputs": [
    {
     "name": "stdout",
     "output_type": "stream",
     "text": [
      "Mean:  3.064646020938575\n",
      "Standard Deviation:  7.581047638533649\n",
      "Z-score:  1.6448536269514722\n",
      "Standard error:  0.06486639662011313\n"
     ]
    }
   ],
   "source": [
    "sample = df['PHYSHLTH']\n",
    "n = len(sample)\n",
    "sample_mean = np.mean(sample)\n",
    "sample_std = np.std(sample)\n",
    "z = stats.norm.ppf(0.95)\n",
    "se = sample_std/np.sqrt(n)\n",
    "alpha = .05\n",
    "print('Mean: ', sample_mean)\n",
    "print('Standard Deviation: ', sample_std)\n",
    "print('Z-score: ', z)\n",
    "print('Standard error: ', se)"
   ]
  },
  {
   "cell_type": "code",
   "execution_count": 19,
   "metadata": {},
   "outputs": [
    {
     "data": {
      "text/plain": [
       "(2.9374989520675534, 3.1917930898095968)"
      ]
     },
     "execution_count": 19,
     "metadata": {},
     "output_type": "execute_result"
    }
   ],
   "source": [
    "stats.t.interval(alpha=1-alpha, loc=sample_mean, scale=se, df=n-1)"
   ]
  },
  {
   "cell_type": "markdown",
   "metadata": {},
   "source": [
    "Using these sample parameters, we found a confidence interval of (2.937, 3.192). Remember that we are looking at the number of days that participants felt physically ill/injured. This means that we can say we are 95% confident that the unknown true population mean of participants who felt ill falls somewhere between 2.937 and 3.192 days.  "
   ]
  },
  {
   "cell_type": "markdown",
   "metadata": {},
   "source": [
    "## Differences in `PHYSHLTH` Based on `RENTHOM1`\n",
    "\n",
    "### How Does `PHYSHLTH` Differ Based on `RENTHOM1`?\n",
    "\n",
    "In this section we will split the dataset (<b>df</b>) into two separate dataframes: <b>df_own</b> for home owners and <b>df_rent</b> for those who rent. This way we can look at the differences in each groups physical health and decide whether or not there is a statistically significant result."
   ]
  },
  {
   "cell_type": "code",
   "execution_count": 20,
   "metadata": {
    "scrolled": true
   },
   "outputs": [
    {
     "data": {
      "text/html": [
       "<div>\n",
       "<style scoped>\n",
       "    .dataframe tbody tr th:only-of-type {\n",
       "        vertical-align: middle;\n",
       "    }\n",
       "\n",
       "    .dataframe tbody tr th {\n",
       "        vertical-align: top;\n",
       "    }\n",
       "\n",
       "    .dataframe thead th {\n",
       "        text-align: right;\n",
       "    }\n",
       "</style>\n",
       "<table border=\"1\" class=\"dataframe\">\n",
       "  <thead>\n",
       "    <tr style=\"text-align: right;\">\n",
       "      <th></th>\n",
       "      <th>_STATE</th>\n",
       "      <th>FMONTH</th>\n",
       "      <th>IDATE</th>\n",
       "      <th>IMONTH</th>\n",
       "      <th>IDAY</th>\n",
       "      <th>IYEAR</th>\n",
       "      <th>DISPCODE</th>\n",
       "      <th>SEQNO</th>\n",
       "      <th>_PSU</th>\n",
       "      <th>CTELENM1</th>\n",
       "      <th>...</th>\n",
       "      <th>_RFPSA23</th>\n",
       "      <th>_CLNSCPY</th>\n",
       "      <th>_SGMSCPY</th>\n",
       "      <th>_SGMS10Y</th>\n",
       "      <th>_RFBLDS4</th>\n",
       "      <th>_STOLDNA</th>\n",
       "      <th>_VIRCOLN</th>\n",
       "      <th>_SBONTIM</th>\n",
       "      <th>_CRCREC1</th>\n",
       "      <th>_AIDTST4</th>\n",
       "    </tr>\n",
       "  </thead>\n",
       "  <tbody>\n",
       "    <tr>\n",
       "      <th>0</th>\n",
       "      <td>36</td>\n",
       "      <td>11</td>\n",
       "      <td>11172020</td>\n",
       "      <td>11</td>\n",
       "      <td>17</td>\n",
       "      <td>2020</td>\n",
       "      <td>1200</td>\n",
       "      <td>2020000001</td>\n",
       "      <td>2020000001</td>\n",
       "      <td>NaN</td>\n",
       "      <td>...</td>\n",
       "      <td>NaN</td>\n",
       "      <td>NaN</td>\n",
       "      <td>NaN</td>\n",
       "      <td>NaN</td>\n",
       "      <td>NaN</td>\n",
       "      <td>NaN</td>\n",
       "      <td>NaN</td>\n",
       "      <td>NaN</td>\n",
       "      <td>NaN</td>\n",
       "      <td>1.0</td>\n",
       "    </tr>\n",
       "    <tr>\n",
       "      <th>2</th>\n",
       "      <td>36</td>\n",
       "      <td>4</td>\n",
       "      <td>5042020</td>\n",
       "      <td>5</td>\n",
       "      <td>4</td>\n",
       "      <td>2020</td>\n",
       "      <td>1200</td>\n",
       "      <td>2020000003</td>\n",
       "      <td>2020000003</td>\n",
       "      <td>NaN</td>\n",
       "      <td>...</td>\n",
       "      <td>NaN</td>\n",
       "      <td>NaN</td>\n",
       "      <td>NaN</td>\n",
       "      <td>NaN</td>\n",
       "      <td>NaN</td>\n",
       "      <td>NaN</td>\n",
       "      <td>NaN</td>\n",
       "      <td>NaN</td>\n",
       "      <td>NaN</td>\n",
       "      <td>2.0</td>\n",
       "    </tr>\n",
       "    <tr>\n",
       "      <th>4</th>\n",
       "      <td>36</td>\n",
       "      <td>3</td>\n",
       "      <td>3102020</td>\n",
       "      <td>3</td>\n",
       "      <td>10</td>\n",
       "      <td>2020</td>\n",
       "      <td>1200</td>\n",
       "      <td>2020000005</td>\n",
       "      <td>2020000005</td>\n",
       "      <td>NaN</td>\n",
       "      <td>...</td>\n",
       "      <td>NaN</td>\n",
       "      <td>NaN</td>\n",
       "      <td>NaN</td>\n",
       "      <td>NaN</td>\n",
       "      <td>NaN</td>\n",
       "      <td>NaN</td>\n",
       "      <td>NaN</td>\n",
       "      <td>NaN</td>\n",
       "      <td>NaN</td>\n",
       "      <td>1.0</td>\n",
       "    </tr>\n",
       "    <tr>\n",
       "      <th>5</th>\n",
       "      <td>36</td>\n",
       "      <td>7</td>\n",
       "      <td>7162020</td>\n",
       "      <td>7</td>\n",
       "      <td>16</td>\n",
       "      <td>2020</td>\n",
       "      <td>1200</td>\n",
       "      <td>2020000006</td>\n",
       "      <td>2020000006</td>\n",
       "      <td>NaN</td>\n",
       "      <td>...</td>\n",
       "      <td>NaN</td>\n",
       "      <td>NaN</td>\n",
       "      <td>NaN</td>\n",
       "      <td>NaN</td>\n",
       "      <td>NaN</td>\n",
       "      <td>NaN</td>\n",
       "      <td>NaN</td>\n",
       "      <td>NaN</td>\n",
       "      <td>NaN</td>\n",
       "      <td>1.0</td>\n",
       "    </tr>\n",
       "    <tr>\n",
       "      <th>6</th>\n",
       "      <td>36</td>\n",
       "      <td>8</td>\n",
       "      <td>8102020</td>\n",
       "      <td>8</td>\n",
       "      <td>10</td>\n",
       "      <td>2020</td>\n",
       "      <td>1200</td>\n",
       "      <td>2020000007</td>\n",
       "      <td>2020000007</td>\n",
       "      <td>NaN</td>\n",
       "      <td>...</td>\n",
       "      <td>NaN</td>\n",
       "      <td>NaN</td>\n",
       "      <td>NaN</td>\n",
       "      <td>NaN</td>\n",
       "      <td>NaN</td>\n",
       "      <td>NaN</td>\n",
       "      <td>NaN</td>\n",
       "      <td>NaN</td>\n",
       "      <td>NaN</td>\n",
       "      <td>NaN</td>\n",
       "    </tr>\n",
       "  </tbody>\n",
       "</table>\n",
       "<p>5 rows × 279 columns</p>\n",
       "</div>"
      ],
      "text/plain": [
       "   _STATE  FMONTH     IDATE  IMONTH  IDAY  IYEAR  DISPCODE       SEQNO  \\\n",
       "0      36      11  11172020      11    17   2020      1200  2020000001   \n",
       "2      36       4   5042020       5     4   2020      1200  2020000003   \n",
       "4      36       3   3102020       3    10   2020      1200  2020000005   \n",
       "5      36       7   7162020       7    16   2020      1200  2020000006   \n",
       "6      36       8   8102020       8    10   2020      1200  2020000007   \n",
       "\n",
       "         _PSU  CTELENM1  ...  _RFPSA23  _CLNSCPY  _SGMSCPY  _SGMS10Y  \\\n",
       "0  2020000001       NaN  ...       NaN       NaN       NaN       NaN   \n",
       "2  2020000003       NaN  ...       NaN       NaN       NaN       NaN   \n",
       "4  2020000005       NaN  ...       NaN       NaN       NaN       NaN   \n",
       "5  2020000006       NaN  ...       NaN       NaN       NaN       NaN   \n",
       "6  2020000007       NaN  ...       NaN       NaN       NaN       NaN   \n",
       "\n",
       "   _RFBLDS4  _STOLDNA  _VIRCOLN  _SBONTIM  _CRCREC1  _AIDTST4  \n",
       "0       NaN       NaN       NaN       NaN       NaN       1.0  \n",
       "2       NaN       NaN       NaN       NaN       NaN       2.0  \n",
       "4       NaN       NaN       NaN       NaN       NaN       1.0  \n",
       "5       NaN       NaN       NaN       NaN       NaN       1.0  \n",
       "6       NaN       NaN       NaN       NaN       NaN       NaN  \n",
       "\n",
       "[5 rows x 279 columns]"
      ]
     },
     "execution_count": 20,
     "metadata": {},
     "output_type": "execute_result"
    }
   ],
   "source": [
    "df_rent = df.loc[df['RENTHOM1'] == 2]\n",
    "df_rent.head()"
   ]
  },
  {
   "cell_type": "code",
   "execution_count": 21,
   "metadata": {
    "scrolled": true
   },
   "outputs": [
    {
     "data": {
      "text/html": [
       "<div>\n",
       "<style scoped>\n",
       "    .dataframe tbody tr th:only-of-type {\n",
       "        vertical-align: middle;\n",
       "    }\n",
       "\n",
       "    .dataframe tbody tr th {\n",
       "        vertical-align: top;\n",
       "    }\n",
       "\n",
       "    .dataframe thead th {\n",
       "        text-align: right;\n",
       "    }\n",
       "</style>\n",
       "<table border=\"1\" class=\"dataframe\">\n",
       "  <thead>\n",
       "    <tr style=\"text-align: right;\">\n",
       "      <th></th>\n",
       "      <th>_STATE</th>\n",
       "      <th>FMONTH</th>\n",
       "      <th>IDATE</th>\n",
       "      <th>IMONTH</th>\n",
       "      <th>IDAY</th>\n",
       "      <th>IYEAR</th>\n",
       "      <th>DISPCODE</th>\n",
       "      <th>SEQNO</th>\n",
       "      <th>_PSU</th>\n",
       "      <th>CTELENM1</th>\n",
       "      <th>...</th>\n",
       "      <th>_RFPSA23</th>\n",
       "      <th>_CLNSCPY</th>\n",
       "      <th>_SGMSCPY</th>\n",
       "      <th>_SGMS10Y</th>\n",
       "      <th>_RFBLDS4</th>\n",
       "      <th>_STOLDNA</th>\n",
       "      <th>_VIRCOLN</th>\n",
       "      <th>_SBONTIM</th>\n",
       "      <th>_CRCREC1</th>\n",
       "      <th>_AIDTST4</th>\n",
       "    </tr>\n",
       "  </thead>\n",
       "  <tbody>\n",
       "    <tr>\n",
       "      <th>1</th>\n",
       "      <td>36</td>\n",
       "      <td>1</td>\n",
       "      <td>1182020</td>\n",
       "      <td>1</td>\n",
       "      <td>18</td>\n",
       "      <td>2020</td>\n",
       "      <td>1200</td>\n",
       "      <td>2020000002</td>\n",
       "      <td>2020000002</td>\n",
       "      <td>NaN</td>\n",
       "      <td>...</td>\n",
       "      <td>NaN</td>\n",
       "      <td>NaN</td>\n",
       "      <td>NaN</td>\n",
       "      <td>NaN</td>\n",
       "      <td>NaN</td>\n",
       "      <td>NaN</td>\n",
       "      <td>NaN</td>\n",
       "      <td>NaN</td>\n",
       "      <td>NaN</td>\n",
       "      <td>2.0</td>\n",
       "    </tr>\n",
       "    <tr>\n",
       "      <th>13</th>\n",
       "      <td>36</td>\n",
       "      <td>1</td>\n",
       "      <td>3102020</td>\n",
       "      <td>3</td>\n",
       "      <td>10</td>\n",
       "      <td>2020</td>\n",
       "      <td>1200</td>\n",
       "      <td>2020000014</td>\n",
       "      <td>2020000014</td>\n",
       "      <td>NaN</td>\n",
       "      <td>...</td>\n",
       "      <td>NaN</td>\n",
       "      <td>1.0</td>\n",
       "      <td>3.0</td>\n",
       "      <td>3.0</td>\n",
       "      <td>3.0</td>\n",
       "      <td>3.0</td>\n",
       "      <td>3.0</td>\n",
       "      <td>3.0</td>\n",
       "      <td>1.0</td>\n",
       "      <td>2.0</td>\n",
       "    </tr>\n",
       "    <tr>\n",
       "      <th>15</th>\n",
       "      <td>36</td>\n",
       "      <td>1</td>\n",
       "      <td>5132020</td>\n",
       "      <td>5</td>\n",
       "      <td>13</td>\n",
       "      <td>2020</td>\n",
       "      <td>1200</td>\n",
       "      <td>2020000016</td>\n",
       "      <td>2020000016</td>\n",
       "      <td>NaN</td>\n",
       "      <td>...</td>\n",
       "      <td>NaN</td>\n",
       "      <td>NaN</td>\n",
       "      <td>NaN</td>\n",
       "      <td>NaN</td>\n",
       "      <td>NaN</td>\n",
       "      <td>NaN</td>\n",
       "      <td>NaN</td>\n",
       "      <td>NaN</td>\n",
       "      <td>NaN</td>\n",
       "      <td>2.0</td>\n",
       "    </tr>\n",
       "    <tr>\n",
       "      <th>20</th>\n",
       "      <td>36</td>\n",
       "      <td>1</td>\n",
       "      <td>9192020</td>\n",
       "      <td>9</td>\n",
       "      <td>19</td>\n",
       "      <td>2020</td>\n",
       "      <td>1200</td>\n",
       "      <td>2020000021</td>\n",
       "      <td>2020000021</td>\n",
       "      <td>NaN</td>\n",
       "      <td>...</td>\n",
       "      <td>NaN</td>\n",
       "      <td>NaN</td>\n",
       "      <td>NaN</td>\n",
       "      <td>NaN</td>\n",
       "      <td>NaN</td>\n",
       "      <td>NaN</td>\n",
       "      <td>NaN</td>\n",
       "      <td>NaN</td>\n",
       "      <td>NaN</td>\n",
       "      <td>1.0</td>\n",
       "    </tr>\n",
       "    <tr>\n",
       "      <th>23</th>\n",
       "      <td>36</td>\n",
       "      <td>10</td>\n",
       "      <td>12022020</td>\n",
       "      <td>12</td>\n",
       "      <td>2</td>\n",
       "      <td>2020</td>\n",
       "      <td>1200</td>\n",
       "      <td>2020000024</td>\n",
       "      <td>2020000024</td>\n",
       "      <td>NaN</td>\n",
       "      <td>...</td>\n",
       "      <td>2.0</td>\n",
       "      <td>1.0</td>\n",
       "      <td>2.0</td>\n",
       "      <td>2.0</td>\n",
       "      <td>2.0</td>\n",
       "      <td>3.0</td>\n",
       "      <td>3.0</td>\n",
       "      <td>2.0</td>\n",
       "      <td>1.0</td>\n",
       "      <td>1.0</td>\n",
       "    </tr>\n",
       "  </tbody>\n",
       "</table>\n",
       "<p>5 rows × 279 columns</p>\n",
       "</div>"
      ],
      "text/plain": [
       "    _STATE  FMONTH     IDATE  IMONTH  IDAY  IYEAR  DISPCODE       SEQNO  \\\n",
       "1       36       1   1182020       1    18   2020      1200  2020000002   \n",
       "13      36       1   3102020       3    10   2020      1200  2020000014   \n",
       "15      36       1   5132020       5    13   2020      1200  2020000016   \n",
       "20      36       1   9192020       9    19   2020      1200  2020000021   \n",
       "23      36      10  12022020      12     2   2020      1200  2020000024   \n",
       "\n",
       "          _PSU  CTELENM1  ...  _RFPSA23  _CLNSCPY  _SGMSCPY  _SGMS10Y  \\\n",
       "1   2020000002       NaN  ...       NaN       NaN       NaN       NaN   \n",
       "13  2020000014       NaN  ...       NaN       1.0       3.0       3.0   \n",
       "15  2020000016       NaN  ...       NaN       NaN       NaN       NaN   \n",
       "20  2020000021       NaN  ...       NaN       NaN       NaN       NaN   \n",
       "23  2020000024       NaN  ...       2.0       1.0       2.0       2.0   \n",
       "\n",
       "    _RFBLDS4  _STOLDNA  _VIRCOLN  _SBONTIM  _CRCREC1  _AIDTST4  \n",
       "1        NaN       NaN       NaN       NaN       NaN       2.0  \n",
       "13       3.0       3.0       3.0       3.0       1.0       2.0  \n",
       "15       NaN       NaN       NaN       NaN       NaN       2.0  \n",
       "20       NaN       NaN       NaN       NaN       NaN       1.0  \n",
       "23       2.0       3.0       3.0       2.0       1.0       1.0  \n",
       "\n",
       "[5 rows x 279 columns]"
      ]
     },
     "execution_count": 21,
     "metadata": {},
     "output_type": "execute_result"
    }
   ],
   "source": [
    "df_own = df.loc[df['RENTHOM1'] == 1]\n",
    "df_own.head()"
   ]
  },
  {
   "cell_type": "markdown",
   "metadata": {},
   "source": [
    "Now that we have the datasets split into home owners and renters we can plot their distributions to see how comparable these datasets are and from there we can calculate if there is statistical significance."
   ]
  },
  {
   "cell_type": "code",
   "execution_count": 24,
   "metadata": {
    "scrolled": true
   },
   "outputs": [
    {
     "data": {
      "image/png": "[encoded data removed]",
      "text/plain": [
       "<Figure size 1440x432 with 3 Axes>"
      ]
     },
     "metadata": {
      "needs_background": "light"
     },
     "output_type": "display_data"
    }
   ],
   "source": [
    "fig, axes = plt.subplots(1, 3, figsize=(20, 6), sharey=True)\n",
    "\n",
    "fig.suptitle('Health of Home Owner vs Renter', fontsize=22)\n",
    "\n",
    "own_health = df_own['PHYSHLTH']\n",
    "rent_health = df_rent['PHYSHLTH']\n",
    "\n",
    "axes[0].hist(own_health, color='green', bins=31)\n",
    "axes[0].set_title('Own', fontsize=16)\n",
    "axes[0].set_xlabel('Days', fontsize=14)\n",
    "axes[0].set_ylabel('Frequency', fontsize=14)\n",
    "\n",
    "axes[1].hist(rent_health, color='orange', bins=31)\n",
    "axes[1].set_title('Rent', fontsize=16)\n",
    "axes[1].set_xlabel('Days', fontsize=14)\n",
    "\n",
    "axes[2].hist([own_health, rent_health], color=['green', 'orange'], bins=31)\n",
    "axes[2].set_title('Compare', fontsize=16)\n",
    "axes[2].set_xlabel('Days', fontsize=14)\n",
    "axes[2].legend(['Own', 'Rent']);"
   ]
  },
  {
   "cell_type": "markdown",
   "metadata": {},
   "source": [
    "In order from left to right, the above plots show the distributions of physical health of home owners, renters, and the same graphs plotted in an overlay. At a glance, it appears that a much larger amount of home owners (6400) did not feel ill/injured more days of the month than renters (3600) which may be significant. However, the results for the remaining days appear fairly insignificant. Let's investigate further to see what the numbers tell us."
   ]
  },
  {
   "cell_type": "markdown",
   "metadata": {},
   "source": [
    "### Is the Difference Statistically Significant?\n",
    "\n",
    "Now that we have a better understanding of what the data is showing us, we can run a t-test to determine whether or not there is a statistical significance between either dataset. Our first step is to oficially state our null and alternative hypotheses:<br>\n",
    "<br>\n",
    "The null hypothesis ($H_0$): there is not a statistically significant difference in physical health between renters and home owners.<br>\n",
    "<br>\n",
    "<center>$H_0$ = $H_a$</center>\n",
    "\n",
    "The alternative hypothesis ($H_a$): there is a statistically significant difference in physical health between renters and home owners.<br>\n",
    "<br>\n",
    "<center>$H_0 \\neq H_a$</center>\n",
    "<br>\n",
    "Our experiment is considered a two-tailed test because we are not trying to attain a direction ($>$ or $<$) in which way the tests are related but only to understand if the tests have any kind of relationship in either direction (= or $ \\neq $). We cannot conclusively say that there is a statistically significant difference, yet. We will find the t-statistic and p-value and relate them back to alpha (.05)."
   ]
  },
  {
   "cell_type": "code",
   "execution_count": 23,
   "metadata": {},
   "outputs": [
    {
     "name": "stdout",
     "output_type": "stream",
     "text": [
      "T-statistic:  -7.653280527933751\n",
      "P-value:  2.0902050539402288e-14\n",
      "p < .05\n",
      "We can reject the null hypothesis.\n"
     ]
    }
   ],
   "source": [
    "result = stats.ttest_ind(own_health, rent_health, axis=0, equal_var=True)\n",
    "t_stat, p_value = result\n",
    "print('T-statistic: ', result[0])\n",
    "print('P-value: ', result[1])\n",
    "print('p < .05')\n",
    "print('We can reject the null hypothesis.')"
   ]
  },
  {
   "cell_type": "markdown",
   "metadata": {},
   "source": [
    "Based on the statistics, the p-value is calculated at about 2.09e-14 which is significantly smaller than our alpha of .05. This means that we can <b>reject the null hypothesis</b> and accept our alternative hypothesis stating that there is a significant relationship in physical health between home owners and renters."
   ]
  },
  {
   "cell_type": "markdown",
   "metadata": {},
   "source": [
    "## Next Steps\n",
    "\n",
    "This was a good experiment to find if home owning or renting is related to physical health. What other aspects of the CDC codebook could we investigate further to find a correlation or causation? One of the columns that I would be interested in exploring deeper is 'ALCDAY5' which asks participants how many days of the month they drank an alcoholic beverage. I would then compare this data to the amount of days felt physically ill/injured. \n",
    "\n",
    "The values in 'ALCDAY5' are expressed as days per week <i>and</i> days per month. Since the 'PHYSHLTH' column is only days per month, I would convert days per week into days per month. I would account for the other answer values in this column the same as in 'PHYSHLTH' by dropping the rows 'refused', 'missing', or 'don't know/not sure' and relabeling 'no drinks in the past 30 days' as 0 instead of 888. Next, I would state a null hypothesis and alternative hypothesis which would be a little different than what the previous experiment because it would probably be more of a one-tailed experiment. So I could say that:<br>\n",
    "<center>$H_0$: the amount of days felt ill by those who drank more is no different than the amount of days felt ill by those who drank less.<br>\n",
    "    $H_a$: the amount of days felt ill by those who drank more is <b>significantly more</b> than the amount of days felt ill by those who drank less.</center><br>\n",
    "Then, plot two graphs to compare, calculate the t-statistic and p-value to find if, and finally compare the p-value to alpha and conclude if they are statistically significant. From there I could use other columns in the CDC codebook that look into the amounts that participants drank varying from light to 'binge'."
   ]
  },
  {
   "cell_type": "markdown",
   "metadata": {},
   "source": [
    "## Summary\n",
    "In this notebook I compared two columns of a dataset. First, I explored and cleaned both columns. Then, I used scipy's stats module to find the confidence interval of the mean of one of the columns which I then interpreted. Next, I split the original datasets into two separate datasets which I plotted and interpreted. I executed a t-test by first stating the null and alternative hypotheses then found the t-statistic and p-value determining that the null hypothesis could be rejected. Finally, I chose another column in the CDC codebook and described a plan of how I would investigate it."
   ]
  }
 ],
 "metadata": {
  "kernelspec": {
   "display_name": "Python 3",
   "language": "python",
   "name": "python3"
  },
  "language_info": {
   "codemirror_mode": {
    "name": "ipython",
    "version": 3
   },
   "file_extension": ".py",
   "mimetype": "text/x-python",
   "name": "python",
   "nbconvert_exporter": "python",
   "pygments_lexer": "ipython3",
   "version": "3.8.5"
  }
 },
 "nbformat": 4,
 "nbformat_minor": 4
}
